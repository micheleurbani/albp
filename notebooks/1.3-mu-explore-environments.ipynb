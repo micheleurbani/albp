{
 "cells": [
  {
   "cell_type": "markdown",
   "metadata": {},
   "source": [
    "# A customized observation function\n",
    "\n",
    "A number of features is collected for each variable that can be branched on.\n",
    "Features can be divided into differnt classes:\n",
    "\n",
    "1. **Problem (or graph) features** [STATIC] characterize the problem, e.g., the cycle time, number of workers, lines, workstations, etc.\n",
    "1. **Variable features** [STATIC] characterize the type of variable, e.g., task-station assignment, worker-station assignment, etc.; the task time if applicable, etc.\n",
    "1. **Variable features** [DYNAMIC] are calculated features that depend on the partial solution, e.g., the resulting workload if a task is assigned to a station when applicable, etc."
   ]
  },
  {
   "cell_type": "code",
   "execution_count": 1,
   "metadata": {},
   "outputs": [],
   "source": [
    "import sys\n",
    "sys.path.append(\"..\")\n",
    "\n",
    "import ecole\n",
    "import pyscipopt\n",
    "import numpy as np\n",
    "from sklearn.preprocessing import OneHotEncoder\n",
    "\n",
    "from models.generator.albp_gen import ALBPGenerator"
   ]
  },
  {
   "cell_type": "code",
   "execution_count": 2,
   "metadata": {},
   "outputs": [],
   "source": [
    "class ALBPObservation:\n",
    "\n",
    "    def __init__(self, data) -> None:\n",
    "        self.data = data\n",
    "\n",
    "    def before_reset(self, model):\n",
    "        # disable presolve, heuristics, separation, and propagation\n",
    "        model.as_pyscipopt().setPresolve(pyscipopt.SCIP_PARAMSETTING.OFF)\n",
    "        model.as_pyscipopt().setHeuristics(pyscipopt.SCIP_PARAMSETTING.OFF)\n",
    "        model.as_pyscipopt().setSeparating(pyscipopt.SCIP_PARAMSETTING.OFF)\n",
    "        model.as_pyscipopt().disablePropagation()\n",
    "        # collect model information\n",
    "        m = model.as_pyscipopt()\n",
    "        nVars = m.getNVars()\n",
    "        # collect variable types\n",
    "        types = np.array([str(v)[:1] for v in m.getVars()]).reshape(-1, 1)\n",
    "        # initialize variable type mask\n",
    "        varTypeMask = OneHotEncoder().fit(types).transform(types).toarray()\n",
    "        assert np.all(np.sum(varTypeMask, axis=0))\n",
    "\n",
    "        # cycle time\n",
    "        cycleTime = np.ones((nVars, 1)) * self.data['C']\n",
    "\n",
    "        # task times\n",
    "        taskTimes = np.zeros((nVars, 1))\n",
    "        for i, var in enumerate(m.getVars()):\n",
    "            if \"x\" in str(var):\n",
    "                _, j, _ = str(var).split(\"_\")\n",
    "                taskTimes[i] = self.data['t'][int(j)]\n",
    "\n",
    "        self.staticFeatures = np.hstack((\n",
    "            varTypeMask,\n",
    "            np.ones((nVars, 1)) * self.data['C'],\n",
    "            taskTimes\n",
    "        ))\n",
    "\n",
    "    def extract(self, model, done):\n",
    "        if done:\n",
    "            return None\n",
    "        m = model.as_pyscipopt()\n",
    "        vars = m.getVars()\n",
    "        sol = self.read_solution(np.array(vars))\n",
    "\n",
    "        # the resulting workload\n",
    "        return self.staticFeatures\n",
    "\n",
    "    def read_solution(self, vars):\n",
    "        \"\"\"\n",
    "        Read a direct solution representation and return an indirect solution\n",
    "        representation.\n",
    "        \"\"\"\n",
    "        # ids of branched variables\n",
    "        b_ids = np.array([i for i in range(len(vars)) if not vars[i].getUbLocal() - vars[i].getLbLocal()], dtype=int)\n",
    "        print(b_ids)\n",
    "        branched = vars[b_ids]\n",
    "\n"
   ]
  },
  {
   "cell_type": "code",
   "execution_count": 3,
   "metadata": {},
   "outputs": [
    {
     "name": "stdout",
     "output_type": "stream",
     "text": [
      "original problem has 64 variables (64 bin, 0 int, 0 impl, 0 cont) and 32 constraints\n",
      "[14 15 16 17 18 19]\n"
     ]
    }
   ],
   "source": [
    "instances = ALBPGenerator(\n",
    "    directory=\"../data/processed/albp-datasets/SALBP-1993\",\n",
    "    # rng=np.random.default_rng(430)\n",
    "    rng=np.random.default_rng(430958)\n",
    ")\n",
    "\n",
    "instance, data = next(instances)\n",
    "\n",
    "env = ecole.environment.Branching(\n",
    "    observation_function=ALBPObservation(data)\n",
    ")\n",
    "\n",
    "o, a, r, done, info = env.reset(instance)"
   ]
  },
  {
   "cell_type": "code",
   "execution_count": 4,
   "metadata": {},
   "outputs": [
    {
     "name": "stdout",
     "output_type": "stream",
     "text": [
      "x_0_1\n",
      "x_0_2\n",
      "x_0_3\n",
      "x_0_4\n",
      "x_0_5\n",
      "x_0_6\n",
      "x_0_7\n",
      "x_1_1\n",
      "x_1_2\n",
      "x_1_3\n",
      "x_1_4\n",
      "x_1_5\n",
      "x_1_6\n",
      "x_1_7\n",
      "x_2_1\n",
      "x_2_2\n",
      "x_2_3\n",
      "x_2_4\n",
      "x_2_5\n",
      "x_2_6\n",
      "x_2_7\n",
      "x_3_1\n",
      "x_3_2\n",
      "x_3_3\n",
      "x_3_4\n",
      "x_3_5\n",
      "x_3_6\n",
      "x_3_7\n",
      "x_4_1\n",
      "x_4_2\n",
      "x_4_3\n",
      "x_4_4\n",
      "x_4_5\n",
      "x_4_6\n",
      "x_4_7\n",
      "x_5_1\n",
      "x_5_2\n",
      "x_5_3\n",
      "x_5_4\n",
      "x_5_5\n",
      "x_5_6\n",
      "x_5_7\n",
      "x_6_1\n",
      "x_6_2\n",
      "x_6_3\n",
      "x_6_4\n",
      "x_6_5\n",
      "x_6_6\n",
      "x_6_7\n",
      "x_7_1\n",
      "x_7_2\n",
      "x_7_3\n",
      "x_7_4\n",
      "x_7_5\n",
      "x_7_6\n",
      "x_7_7\n",
      "y_0\n",
      "y_1\n",
      "y_2\n",
      "y_3\n",
      "y_4\n",
      "y_5\n",
      "y_6\n",
      "y_7\n"
     ]
    }
   ],
   "source": [
    "for i in np.array(env.model.as_pyscipopt().getVars()):\n",
    "    print(i)"
   ]
  },
  {
   "cell_type": "code",
   "execution_count": 5,
   "metadata": {},
   "outputs": [
    {
     "name": "stdout",
     "output_type": "stream",
     "text": [
      "False\n"
     ]
    }
   ],
   "source": [
    "print(done)"
   ]
  },
  {
   "cell_type": "code",
   "execution_count": 6,
   "metadata": {},
   "outputs": [
    {
     "name": "stdout",
     "output_type": "stream",
     "text": [
      "(4, 4) (4,)\n"
     ]
    }
   ],
   "source": [
    "print(o[a].shape, a.shape)"
   ]
  },
  {
   "cell_type": "code",
   "execution_count": 7,
   "metadata": {},
   "outputs": [
    {
     "name": "stdout",
     "output_type": "stream",
     "text": [
      "[[   1.    0. 1000.   11.]\n",
      " [   1.    0. 1000.    9.]\n",
      " [   1.    0. 1000.    9.]\n",
      " [   1.    0. 1000.    5.]]\n"
     ]
    }
   ],
   "source": [
    "print(o[a])"
   ]
  },
  {
   "cell_type": "code",
   "execution_count": 8,
   "metadata": {},
   "outputs": [
    {
     "data": {
      "text/plain": [
       "array([x_0_3, x_2_3, x_2_5, x_3_7], dtype=object)"
      ]
     },
     "execution_count": 8,
     "metadata": {},
     "output_type": "execute_result"
    }
   ],
   "source": [
    "vars = np.array(env.model.as_pyscipopt().getVars())\n",
    "# vars[-89]\n",
    "vars[a]"
   ]
  },
  {
   "cell_type": "code",
   "execution_count": 12,
   "metadata": {},
   "outputs": [
    {
     "data": {
      "text/plain": [
       "array([[   1.,    0., 1000.,   11.],\n",
       "       [   1.,    0., 1000.,   11.],\n",
       "       [   1.,    0., 1000.,   11.],\n",
       "       [   1.,    0., 1000.,   11.],\n",
       "       [   1.,    0., 1000.,   11.],\n",
       "       [   1.,    0., 1000.,   11.],\n",
       "       [   1.,    0., 1000.,   11.],\n",
       "       [   1.,    0., 1000.,   17.],\n",
       "       [   1.,    0., 1000.,   17.],\n",
       "       [   1.,    0., 1000.,   17.],\n",
       "       [   1.,    0., 1000.,   17.],\n",
       "       [   1.,    0., 1000.,   17.],\n",
       "       [   1.,    0., 1000.,   17.],\n",
       "       [   1.,    0., 1000.,   17.],\n",
       "       [   1.,    0., 1000.,    9.],\n",
       "       [   1.,    0., 1000.,    9.],\n",
       "       [   1.,    0., 1000.,    9.],\n",
       "       [   1.,    0., 1000.,    9.],\n",
       "       [   1.,    0., 1000.,    9.],\n",
       "       [   1.,    0., 1000.,    9.],\n",
       "       [   1.,    0., 1000.,    9.],\n",
       "       [   1.,    0., 1000.,    5.],\n",
       "       [   1.,    0., 1000.,    5.],\n",
       "       [   1.,    0., 1000.,    5.],\n",
       "       [   1.,    0., 1000.,    5.],\n",
       "       [   1.,    0., 1000.,    5.],\n",
       "       [   1.,    0., 1000.,    5.],\n",
       "       [   1.,    0., 1000.,    5.],\n",
       "       [   1.,    0., 1000.,    8.],\n",
       "       [   1.,    0., 1000.,    8.],\n",
       "       [   1.,    0., 1000.,    8.],\n",
       "       [   1.,    0., 1000.,    8.],\n",
       "       [   1.,    0., 1000.,    8.],\n",
       "       [   1.,    0., 1000.,    8.],\n",
       "       [   1.,    0., 1000.,    8.],\n",
       "       [   1.,    0., 1000.,   12.],\n",
       "       [   1.,    0., 1000.,   12.],\n",
       "       [   1.,    0., 1000.,   12.],\n",
       "       [   1.,    0., 1000.,   12.],\n",
       "       [   1.,    0., 1000.,   12.],\n",
       "       [   1.,    0., 1000.,   12.],\n",
       "       [   1.,    0., 1000.,   12.],\n",
       "       [   1.,    0., 1000.,   10.],\n",
       "       [   1.,    0., 1000.,   10.],\n",
       "       [   1.,    0., 1000.,   10.],\n",
       "       [   1.,    0., 1000.,   10.],\n",
       "       [   1.,    0., 1000.,   10.],\n",
       "       [   1.,    0., 1000.,   10.],\n",
       "       [   1.,    0., 1000.,   10.],\n",
       "       [   1.,    0., 1000.,    3.],\n",
       "       [   1.,    0., 1000.,    3.],\n",
       "       [   1.,    0., 1000.,    3.],\n",
       "       [   1.,    0., 1000.,    3.],\n",
       "       [   1.,    0., 1000.,    3.],\n",
       "       [   1.,    0., 1000.,    3.],\n",
       "       [   1.,    0., 1000.,    3.],\n",
       "       [   0.,    1., 1000.,    0.],\n",
       "       [   0.,    1., 1000.,    0.],\n",
       "       [   0.,    1., 1000.,    0.],\n",
       "       [   0.,    1., 1000.,    0.],\n",
       "       [   0.,    1., 1000.,    0.],\n",
       "       [   0.,    1., 1000.,    0.],\n",
       "       [   0.,    1., 1000.,    0.],\n",
       "       [   0.,    1., 1000.,    0.]])"
      ]
     },
     "execution_count": 12,
     "metadata": {},
     "output_type": "execute_result"
    }
   ],
   "source": [
    "o"
   ]
  }
 ],
 "metadata": {
  "kernelspec": {
   "display_name": "albp-RW1qceGi-py3.9",
   "language": "python",
   "name": "python3"
  },
  "language_info": {
   "codemirror_mode": {
    "name": "ipython",
    "version": 3
   },
   "file_extension": ".py",
   "mimetype": "text/x-python",
   "name": "python",
   "nbconvert_exporter": "python",
   "pygments_lexer": "ipython3",
   "version": "3.11.8"
  }
 },
 "nbformat": 4,
 "nbformat_minor": 2
}
