{
 "cells": [
  {
   "cell_type": "markdown",
   "metadata": {},
   "source": [
    "## Custom ALBP Environment\n",
    "\n",
    "A possible environment for the ALBP problem should recognized which tasks still have to be assigned, hence on which variable to branch on in order to assign a task to a station."
   ]
  },
  {
   "cell_type": "code",
   "execution_count": 1,
   "metadata": {},
   "outputs": [],
   "source": [
    "import sys\n",
    "sys.path.append('..')\n",
    "import ecole\n",
    "import pyscipopt\n",
    "import numpy as np\n",
    "from pprint import pprint\n",
    "from models.generator.albp_gen import ALBPGenerator"
   ]
  },
  {
   "cell_type": "code",
   "execution_count": 2,
   "metadata": {},
   "outputs": [],
   "source": [
    "instances = ALBPGenerator(\n",
    "    directory=\"../data/processed/albp-datasets/SALBP-1993\",\n",
    "    rng=np.random.default_rng(430958)\n",
    ")"
   ]
  },
  {
   "cell_type": "code",
   "execution_count": 3,
   "metadata": {},
   "outputs": [
    {
     "name": "stdout",
     "output_type": "stream",
     "text": [
      "original problem has 64 variables (64 bin, 0 int, 0 impl, 0 cont) and 32 constraints\n"
     ]
    }
   ],
   "source": [
    "import ecole.dynamics\n",
    "import ecole.environment\n",
    "\n",
    "\n",
    "instance, data = next(instances)\n",
    "\n",
    "class CustomBranching(ecole.environment.Branching):\n",
    "\n",
    "    __dynamics__ = ecole.dynamics.BranchingDynamics(pseudo_candidates=True)\n",
    "\n",
    "env = CustomBranching()\n",
    "\n",
    "# env.model.disable_cuts()\n",
    "# env.model.disable_presolve()\n",
    "\n",
    "o, a, r, done, info = env.reset(instance)"
   ]
  },
  {
   "cell_type": "code",
   "execution_count": 5,
   "metadata": {},
   "outputs": [
    {
     "data": {
      "text/plain": [
       "__main__.CustomBranching"
      ]
     },
     "execution_count": 5,
     "metadata": {},
     "output_type": "execute_result"
    }
   ],
   "source": [
    "type(env)"
   ]
  }
 ],
 "metadata": {
  "kernelspec": {
   "display_name": "albp-RW1qceGi-py3.9",
   "language": "python",
   "name": "python3"
  },
  "language_info": {
   "codemirror_mode": {
    "name": "ipython",
    "version": 3
   },
   "file_extension": ".py",
   "mimetype": "text/x-python",
   "name": "python",
   "nbconvert_exporter": "python",
   "pygments_lexer": "ipython3",
   "version": "3.11.8"
  }
 },
 "nbformat": 4,
 "nbformat_minor": 2
}
