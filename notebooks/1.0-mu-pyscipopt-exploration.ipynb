{
 "cells": [
  {
   "cell_type": "markdown",
   "metadata": {},
   "source": [
    "## Exploring presolving and plugins options\n",
    "\n",
    "With presolving, we indicate all procedures that can be applied before the branch and bound starts.\n",
    "Plugins concerns the application of constraints and variables changes during the execution of the B&B algorithm."
   ]
  },
  {
   "cell_type": "code",
   "execution_count": 1,
   "metadata": {},
   "outputs": [],
   "source": [
    "import pyscipopt"
   ]
  },
  {
   "cell_type": "code",
   "execution_count": 2,
   "metadata": {},
   "outputs": [
    {
     "name": "stdout",
     "output_type": "stream",
     "text": [
      "original problem has 2473 variables (2473 bin, 0 int, 0 impl, 0 cont) and 161 constraints\n"
     ]
    }
   ],
   "source": [
    "m = pyscipopt.Model()\n",
    "m.readProblem(filename='../data/processed/albp-datasets/SALBP-2013/50/instance_n=50_157.lp', extension='lp')"
   ]
  },
  {
   "cell_type": "markdown",
   "metadata": {},
   "source": [
    "Constructing a LP version of the problem should be possible through the method `lp = m.constructLP()`.\n",
    "However, the method causes the Jupyter kernel to crash."
   ]
  },
  {
   "cell_type": "code",
   "execution_count": 3,
   "metadata": {},
   "outputs": [
    {
     "name": "stdout",
     "output_type": "stream",
     "text": [
      "presolving:\n",
      "(round 1, fast)       0 del vars, 1 del conss, 0 add conss, 0 chg bounds, 0 chg sides, 0 chg coeffs, 0 upgd conss, 0 impls, 0 clqs\n",
      "   (0.0s) running MILP presolver\n",
      "   (0.1s) MILP presolver (3 rounds): 0 aggregations, 46 fixings, 0 bound changes\n",
      "(round 2, medium)     47 del vars, 1 del conss, 0 add conss, 0 chg bounds, 0 chg sides, 0 chg coeffs, 0 upgd conss, 0 impls, 0 clqs\n",
      "(round 3, fast)       47 del vars, 2 del conss, 0 add conss, 0 chg bounds, 0 chg sides, 0 chg coeffs, 0 upgd conss, 0 impls, 0 clqs\n",
      "presolving (4 rounds: 4 fast, 2 medium, 1 exhaustive):\n",
      " 47 deleted vars, 2 deleted constraints, 0 added constraints, 0 tightened bounds, 0 added holes, 0 changed sides, 0 changed coefficients\n",
      " 0 implications, 0 cliques\n",
      "presolved problem has 2426 variables (0 bin, 0 int, 0 impl, 2426 cont) and 159 constraints\n",
      "    159 constraints of type <linear>\n",
      "Presolving Time: 0.07\n",
      "\n",
      " time | node  | left  |LP iter|LP it/n|mem/heur|mdpt |vars |cons |rows |cuts |sepa|confs|strbr|  dualbound   | primalbound  |  gap   | compl. \n",
      "* 0.2s|     1 |     0 |   719 |     - |    LP  |   0 |2426 | 159 | 159 |   0 |  0 |   0 |   0 | 7.152000e+00 | 7.152000e+00 |   0.00%| unknown\n",
      "  0.2s|     1 |     0 |   719 |     - |    16M |   0 |2426 | 159 | 159 |   0 |  0 |   0 |   0 | 7.152000e+00 | 7.152000e+00 |   0.00%| unknown\n",
      "\n",
      "SCIP Status        : problem is solved [optimal solution found]\n",
      "Solving Time (sec) : 0.15\n",
      "Solving Nodes      : 1\n",
      "Primal Bound       : +7.15200000000000e+00 (1 solutions)\n",
      "Dual Bound         : +7.15200000000000e+00\n",
      "Gap                : 0.00 %\n"
     ]
    }
   ],
   "source": [
    "lp = pyscipopt.Model(sourceModel=m)\n",
    "\n",
    "for var in lp.getVars():\n",
    "    lp.chgVarType(var, 'C')\n",
    "\n",
    "lp.optimize()"
   ]
  },
  {
   "cell_type": "code",
   "execution_count": 4,
   "metadata": {},
   "outputs": [
    {
     "name": "stdout",
     "output_type": "stream",
     "text": [
      "presolving:\n",
      "presolving (0 rounds: 0 fast, 0 medium, 0 exhaustive):\n",
      " 0 deleted vars, 0 deleted constraints, 0 added constraints, 0 tightened bounds, 0 added holes, 0 changed sides, 0 changed coefficients\n",
      " 0 implications, 0 cliques\n",
      "presolved problem has 2473 variables (2473 bin, 0 int, 0 impl, 0 cont) and 161 constraints\n",
      "    161 constraints of type <linear>\n",
      "transformed objective value is always integral (scale: 1)\n",
      "Presolving Time: 0.00\n",
      "\n",
      " time | node  | left  |LP iter|LP it/n|mem/heur|mdpt |vars |cons |rows |cuts |sepa|confs|strbr|  dualbound   | primalbound  |  gap   | compl. \n",
      "  0.1s|     1 |     0 |   565 |     - |    12M |   0 |2473 | 168 | 160 |   0 |  0 |   8 |   0 | 7.152000e+00 |      --      |    Inf | unknown\n",
      "  0.2s|     1 |     0 |  1137 |     - |    19M |   0 |2473 | 168 | 179 |  19 |  1 |   8 |   0 | 7.152000e+00 |      --      |    Inf | unknown\n",
      "  0.3s|     1 |     0 |  1172 |     - |    20M |   0 |2473 | 169 | 200 |  40 |  2 |   9 |   0 | 7.152000e+00 |      --      |    Inf | unknown\n",
      "  0.3s|     1 |     0 |  1202 |     - |    21M |   0 |2473 | 170 | 215 |  55 |  3 |  10 |   0 | 7.152000e+00 |      --      |    Inf | unknown\n",
      "  0.3s|     1 |     0 |  1259 |     - |    22M |   0 |2473 | 171 | 233 |  73 |  4 |  11 |   0 | 7.152000e+00 |      --      |    Inf | unknown\n",
      "  0.4s|     1 |     0 |  1286 |     - |    22M |   0 |2473 | 175 | 244 |  84 |  5 |  15 |   0 | 7.152000e+00 |      --      |    Inf | unknown\n",
      "  0.4s|     1 |     0 |  1325 |     - |    23M |   0 |2473 | 179 | 261 | 101 |  6 |  19 |   0 | 7.152000e+00 |      --      |    Inf | unknown\n",
      "  0.5s|     1 |     0 |  1379 |     - |    28M |   0 |2473 | 180 | 285 | 125 |  7 |  20 |   0 | 7.152000e+00 |      --      |    Inf | unknown\n",
      "  0.5s|     1 |     0 |  1420 |     - |    30M |   0 |2473 | 181 | 306 | 146 |  8 |  21 |   0 | 7.152000e+00 |      --      |    Inf | unknown\n",
      "  0.5s|     1 |     0 |  1468 |     - |    30M |   0 |2473 | 182 | 323 | 163 |  9 |  22 |   0 | 7.152000e+00 |      --      |    Inf | unknown\n",
      "  0.6s|     1 |     0 |  1503 |     - |    31M |   0 |2473 | 183 | 335 | 175 | 10 |  23 |   0 | 7.152000e+00 |      --      |    Inf | unknown\n",
      "  0.6s|     1 |     0 |  1551 |     - |    31M |   0 |2473 | 184 | 349 | 189 | 11 |  24 |   0 | 7.152000e+00 |      --      |    Inf | unknown\n",
      "  0.8s|     1 |     2 |  1915 |     - |    31M |   0 |2473 | 188 | 349 | 189 | 11 |  29 |  11 | 7.152000e+00 |      --      |    Inf | unknown\n",
      "L 1.3s|    36 |     0 |  2647 |  31.3 |    alns|  21 |2473 | 267 | 312 | 251 |  2 | 108 |  11 | 7.152000e+00 | 8.000000e+00 |  11.86%| 100.00%\n",
      "\n",
      "SCIP Status        : problem is solved [optimal solution found]\n",
      "Solving Time (sec) : 1.31\n",
      "Solving Nodes      : 36\n",
      "Primal Bound       : +8.00000000000000e+00 (1 solutions)\n",
      "Dual Bound         : +8.00000000000000e+00\n",
      "Gap                : 0.00 %\n"
     ]
    }
   ],
   "source": [
    "# disable any presolve, propagation, constraints\n",
    "m1 = pyscipopt.Model(sourceModel=m)\n",
    "m1.setPresolve(pyscipopt.SCIP_PARAMSETTING.OFF)\n",
    "m1.optimize()"
   ]
  },
  {
   "cell_type": "code",
   "execution_count": 5,
   "metadata": {},
   "outputs": [
    {
     "name": "stdout",
     "output_type": "stream",
     "text": [
      "presolving:\n",
      "(round 1, fast)       0 del vars, 1 del conss, 0 add conss, 0 chg bounds, 0 chg sides, 0 chg coeffs, 0 upgd conss, 0 impls, 50 clqs\n",
      "   (0.0s) running MILP presolver\n",
      "   (0.0s) MILP presolver (2 rounds): 0 aggregations, 46 fixings, 0 bound changes\n",
      "(round 2, medium)     47 del vars, 1 del conss, 0 add conss, 0 chg bounds, 0 chg sides, 0 chg coeffs, 0 upgd conss, 0 impls, 49 clqs\n",
      "(round 3, fast)       47 del vars, 2 del conss, 0 add conss, 0 chg bounds, 0 chg sides, 0 chg coeffs, 0 upgd conss, 0 impls, 95 clqs\n",
      "(round 4, exhaustive) 47 del vars, 2 del conss, 0 add conss, 0 chg bounds, 0 chg sides, 0 chg coeffs, 159 upgd conss, 0 impls, 95 clqs\n",
      "(round 5, fast)       47 del vars, 2 del conss, 0 add conss, 0 chg bounds, 0 chg sides, 4 chg coeffs, 159 upgd conss, 0 impls, 95 clqs\n",
      "(round 6, medium)     47 del vars, 6 del conss, 2 add conss, 0 chg bounds, 14 chg sides, 110 chg coeffs, 159 upgd conss, 0 impls, 2695 clqs\n",
      "   (0.3s) probing: 1000/2426 (41.2%) - 4 fixings, 0 aggregations, 46271 implications, 0 bound changes\n",
      "   (0.6s) probing: 2000/2426 (82.4%) - 11 fixings, 0 aggregations, 104029 implications, 0 bound changes\n",
      "   (0.8s) probing cycle finished: starting next cycle\n",
      "(round 7, exhaustive) 58 del vars, 6 del conss, 2 add conss, 0 chg bounds, 14 chg sides, 110 chg coeffs, 159 upgd conss, 0 impls, 6332 clqs\n",
      "(round 8, medium)     58 del vars, 6 del conss, 2 add conss, 0 chg bounds, 28 chg sides, 124 chg coeffs, 159 upgd conss, 0 impls, 6367 clqs\n",
      "   (0.8s) probing: 51/2415 (2.1%) - 11 fixings, 0 aggregations, 140068 implications, 0 bound changes\n",
      "   (0.8s) probing aborted: 50/50 successive totally useless probings\n",
      "presolving (9 rounds: 9 fast, 6 medium, 3 exhaustive):\n",
      " 58 deleted vars, 6 deleted constraints, 2 added constraints, 0 tightened bounds, 0 added holes, 28 changed sides, 124 changed coefficients\n",
      " 0 implications, 6367 cliques\n",
      "presolved problem has 2415 variables (2415 bin, 0 int, 0 impl, 0 cont) and 157 constraints\n",
      "    108 constraints of type <knapsack>\n",
      "     49 constraints of type <setppc>\n",
      "transformed objective value is always integral (scale: 1)\n",
      "Presolving Time: 0.79\n",
      "\n",
      " time | node  | left  |LP iter|LP it/n|mem/heur|mdpt |vars |cons |rows |cuts |sepa|confs|strbr|  dualbound   | primalbound  |  gap   | compl. \n",
      "  0.8s|     1 |     0 |   600 |     - |    23M |   0 |2415 | 157 | 157 |   0 |  0 |   0 |   0 | 7.152000e+00 |      --      |    Inf | unknown\n",
      "  1.0s|     1 |     0 |   650 |     - |    26M |   0 |2415 | 157 | 197 |  40 |  1 |   0 |   0 | 7.152000e+00 |      --      |    Inf | unknown\n",
      "  1.0s|     1 |     0 |   686 |     - |    28M |   0 |2415 | 157 | 229 |  72 |  2 |   0 |   0 | 7.152000e+00 |      --      |    Inf | unknown\n",
      "  1.0s|     1 |     0 |   715 |     - |    29M |   0 |2415 | 157 | 248 |  91 |  3 |   0 |   0 | 7.152000e+00 |      --      |    Inf | unknown\n",
      "  1.1s|     1 |     0 |   747 |     - |    31M |   0 |2415 | 157 | 270 | 113 |  4 |   0 |   0 | 7.152000e+00 |      --      |    Inf | unknown\n",
      "  1.1s|     1 |     0 |   777 |     - |    32M |   0 |2415 | 157 | 291 | 134 |  5 |   0 |   0 | 7.152000e+00 |      --      |    Inf | unknown\n",
      "  1.2s|     1 |     0 |   812 |     - |    32M |   0 |2415 | 157 | 313 | 156 |  6 |   0 |   0 | 7.152000e+00 |      --      |    Inf | unknown\n",
      "  1.2s|     1 |     0 |   847 |     - |    32M |   0 |2415 | 157 | 331 | 174 |  7 |   0 |   0 | 7.152000e+00 |      --      |    Inf | unknown\n",
      "  1.2s|     1 |     0 |   893 |     - |    33M |   0 |2415 | 157 | 349 | 192 |  8 |   0 |   0 | 7.152000e+00 |      --      |    Inf | unknown\n",
      "  1.3s|     1 |     0 |   918 |     - |    33M |   0 |2415 | 157 | 365 | 208 |  9 |   0 |   0 | 7.152000e+00 |      --      |    Inf | unknown\n",
      "  1.3s|     1 |     0 |   957 |     - |    33M |   0 |2415 | 157 | 378 | 221 | 10 |   0 |   0 | 7.152000e+00 |      --      |    Inf | unknown\n",
      "  1.4s|     1 |     0 |   983 |     - |    33M |   0 |2415 | 157 | 392 | 236 | 11 |   0 |   0 | 7.152000e+00 |      --      |    Inf | unknown\n",
      "  1.7s|     1 |     2 |  1000 |     - |    33M |   0 |2415 | 157 | 392 | 236 | 11 |   0 |  24 | 7.152000e+00 |      --      |    Inf | unknown\n",
      "* 2.4s|    59 |     0 |  2404 |  24.5 |strongbr|  22 |2415 | 213 | 374 | 362 |  1 |  56 |  52 | 8.000000e+00 | 8.000000e+00 |   0.00%| 100.00%\n",
      "\n",
      "SCIP Status        : problem is solved [optimal solution found]\n",
      "Solving Time (sec) : 2.36\n",
      "Solving Nodes      : 59\n",
      "Primal Bound       : +8.00000000000000e+00 (1 solutions)\n",
      "Dual Bound         : +8.00000000000000e+00\n",
      "Gap                : 0.00 %\n"
     ]
    }
   ],
   "source": [
    "m2 = pyscipopt.Model(sourceModel=m)\n",
    "m2.setHeuristics(pyscipopt.SCIP_PARAMSETTING.OFF)\n",
    "m2.optimize()"
   ]
  },
  {
   "cell_type": "code",
   "execution_count": 6,
   "metadata": {},
   "outputs": [
    {
     "name": "stdout",
     "output_type": "stream",
     "text": [
      "presolving:\n",
      "(round 1, fast)       0 del vars, 1 del conss, 0 add conss, 0 chg bounds, 0 chg sides, 0 chg coeffs, 0 upgd conss, 0 impls, 50 clqs\n",
      "   (0.0s) running MILP presolver\n",
      "   (0.0s) MILP presolver (2 rounds): 0 aggregations, 46 fixings, 0 bound changes\n",
      "(round 2, medium)     47 del vars, 1 del conss, 0 add conss, 0 chg bounds, 0 chg sides, 0 chg coeffs, 0 upgd conss, 0 impls, 49 clqs\n",
      "(round 3, fast)       47 del vars, 2 del conss, 0 add conss, 0 chg bounds, 0 chg sides, 0 chg coeffs, 0 upgd conss, 0 impls, 95 clqs\n",
      "(round 4, exhaustive) 47 del vars, 2 del conss, 0 add conss, 0 chg bounds, 0 chg sides, 0 chg coeffs, 159 upgd conss, 0 impls, 95 clqs\n",
      "(round 5, fast)       47 del vars, 2 del conss, 0 add conss, 0 chg bounds, 0 chg sides, 4 chg coeffs, 159 upgd conss, 0 impls, 95 clqs\n",
      "(round 6, medium)     47 del vars, 6 del conss, 2 add conss, 0 chg bounds, 14 chg sides, 110 chg coeffs, 159 upgd conss, 0 impls, 2695 clqs\n",
      "   (0.4s) probing: 1000/2426 (41.2%) - 4 fixings, 0 aggregations, 46271 implications, 0 bound changes\n",
      "   (0.7s) probing: 2000/2426 (82.4%) - 11 fixings, 0 aggregations, 104029 implications, 0 bound changes\n",
      "   (0.8s) probing cycle finished: starting next cycle\n",
      "(round 7, exhaustive) 58 del vars, 6 del conss, 2 add conss, 0 chg bounds, 14 chg sides, 110 chg coeffs, 159 upgd conss, 0 impls, 6332 clqs\n",
      "(round 8, medium)     58 del vars, 6 del conss, 2 add conss, 0 chg bounds, 28 chg sides, 124 chg coeffs, 159 upgd conss, 0 impls, 6367 clqs\n",
      "   (0.8s) probing: 51/2415 (2.1%) - 11 fixings, 0 aggregations, 140068 implications, 0 bound changes\n",
      "   (0.8s) probing aborted: 50/50 successive totally useless probings\n",
      "presolving (9 rounds: 9 fast, 6 medium, 3 exhaustive):\n",
      " 58 deleted vars, 6 deleted constraints, 2 added constraints, 0 tightened bounds, 0 added holes, 28 changed sides, 124 changed coefficients\n",
      " 0 implications, 6367 cliques\n",
      "presolved problem has 2415 variables (2415 bin, 0 int, 0 impl, 0 cont) and 157 constraints\n",
      "    108 constraints of type <knapsack>\n",
      "     49 constraints of type <setppc>\n",
      "transformed objective value is always integral (scale: 1)\n",
      "Presolving Time: 0.83\n",
      "\n",
      " time | node  | left  |LP iter|LP it/n|mem/heur|mdpt |vars |cons |rows |cuts |sepa|confs|strbr|  dualbound   | primalbound  |  gap   | compl. \n",
      "  0.9s|     1 |     0 |   600 |     - |    26M |   0 |2415 | 281 | 157 |   0 |  0 | 123 |   0 | 7.152000e+00 |      --      |    Inf | unknown\n",
      "  1.0s|     1 |     2 |  1174 |     - |    27M |   0 |2415 | 346 | 157 |   0 |  1 | 188 |  19 | 7.152000e+00 |      --      |    Inf | unknown\n",
      "d 1.3s|    98 |     0 |  3369 |  25.1 |linesear|  17 |2415 | 528 | 157 |   0 |  1 | 370 |  19 | 7.214000e+00 | 8.000000e+00 |  10.90%| 100.00%\n",
      "\n",
      "SCIP Status        : problem is solved [optimal solution found]\n",
      "Solving Time (sec) : 1.30\n",
      "Solving Nodes      : 98\n",
      "Primal Bound       : +8.00000000000000e+00 (1 solutions)\n",
      "Dual Bound         : +8.00000000000000e+00\n",
      "Gap                : 0.00 %\n"
     ]
    }
   ],
   "source": [
    "m3 = pyscipopt.Model(sourceModel=m)\n",
    "m3.setSeparating(pyscipopt.SCIP_PARAMSETTING.OFF)\n",
    "m3.optimize()"
   ]
  },
  {
   "cell_type": "code",
   "execution_count": 7,
   "metadata": {},
   "outputs": [
    {
     "name": "stdout",
     "output_type": "stream",
     "text": [
      "presolving:\n",
      "(round 1, fast)       0 del vars, 1 del conss, 0 add conss, 0 chg bounds, 0 chg sides, 0 chg coeffs, 0 upgd conss, 0 impls, 50 clqs\n",
      "   (0.0s) running MILP presolver\n",
      "   (0.0s) MILP presolver (2 rounds): 0 aggregations, 46 fixings, 0 bound changes\n",
      "(round 2, medium)     47 del vars, 1 del conss, 0 add conss, 0 chg bounds, 0 chg sides, 0 chg coeffs, 0 upgd conss, 0 impls, 49 clqs\n",
      "(round 3, fast)       47 del vars, 2 del conss, 0 add conss, 0 chg bounds, 0 chg sides, 0 chg coeffs, 0 upgd conss, 0 impls, 95 clqs\n",
      "(round 4, exhaustive) 47 del vars, 2 del conss, 0 add conss, 0 chg bounds, 0 chg sides, 0 chg coeffs, 159 upgd conss, 0 impls, 95 clqs\n",
      "(round 5, fast)       47 del vars, 2 del conss, 0 add conss, 0 chg bounds, 0 chg sides, 4 chg coeffs, 159 upgd conss, 0 impls, 95 clqs\n",
      "(round 6, medium)     47 del vars, 6 del conss, 2 add conss, 0 chg bounds, 14 chg sides, 110 chg coeffs, 159 upgd conss, 0 impls, 2695 clqs\n",
      "   (0.3s) probing: 1000/2426 (41.2%) - 4 fixings, 0 aggregations, 46271 implications, 0 bound changes\n",
      "   (0.6s) probing: 2000/2426 (82.4%) - 11 fixings, 0 aggregations, 104029 implications, 0 bound changes\n",
      "   (0.8s) probing cycle finished: starting next cycle\n",
      "(round 7, exhaustive) 58 del vars, 6 del conss, 2 add conss, 0 chg bounds, 14 chg sides, 110 chg coeffs, 159 upgd conss, 0 impls, 6332 clqs\n",
      "(round 8, medium)     58 del vars, 6 del conss, 2 add conss, 0 chg bounds, 28 chg sides, 124 chg coeffs, 159 upgd conss, 0 impls, 6367 clqs\n",
      "   (0.8s) probing: 51/2415 (2.1%) - 11 fixings, 0 aggregations, 140068 implications, 0 bound changes\n",
      "   (0.8s) probing aborted: 50/50 successive totally useless probings\n",
      "presolving (9 rounds: 9 fast, 6 medium, 3 exhaustive):\n",
      " 58 deleted vars, 6 deleted constraints, 2 added constraints, 0 tightened bounds, 0 added holes, 28 changed sides, 124 changed coefficients\n",
      " 0 implications, 6367 cliques\n",
      "presolved problem has 2415 variables (2415 bin, 0 int, 0 impl, 0 cont) and 157 constraints\n",
      "    108 constraints of type <knapsack>\n",
      "     49 constraints of type <setppc>\n",
      "transformed objective value is always integral (scale: 1)\n",
      "Presolving Time: 0.78\n",
      "\n",
      " time | node  | left  |LP iter|LP it/n|mem/heur|mdpt |vars |cons |rows |cuts |sepa|confs|strbr|  dualbound   | primalbound  |  gap   | compl. \n",
      "  0.9s|     1 |     0 |   600 |     - |    26M |   0 |2415 | 279 | 157 |   0 |  0 | 121 |   0 | 7.152000e+00 |      --      |    Inf | unknown\n",
      "  1.0s|     1 |     0 |   986 |     - |    29M |   0 |2415 | 283 | 197 |  40 |  1 | 125 |   0 | 7.152000e+00 |      --      |    Inf | unknown\n",
      "  1.0s|     1 |     0 |  1029 |     - |    30M |   0 |2415 | 292 | 227 |  70 |  2 | 134 |   0 | 7.152000e+00 |      --      |    Inf | unknown\n",
      "  1.1s|     1 |     0 |  1061 |     - |    32M |   0 |2415 | 299 | 254 |  97 |  3 | 141 |   0 | 7.152000e+00 |      --      |    Inf | unknown\n",
      "  1.1s|     1 |     0 |  1102 |     - |    33M |   0 |2415 | 302 | 277 | 120 |  4 | 144 |   0 | 7.152000e+00 |      --      |    Inf | unknown\n",
      "  1.1s|     1 |     0 |  1136 |     - |    34M |   0 |2415 | 305 | 299 | 142 |  5 | 147 |   0 | 7.152000e+00 |      --      |    Inf | unknown\n",
      "  1.2s|     1 |     0 |  1203 |     - |    34M |   0 |2415 | 309 | 323 | 166 |  6 | 151 |   0 | 7.152000e+00 |      --      |    Inf | unknown\n",
      "  1.2s|     1 |     0 |  1261 |     - |    35M |   0 |2415 | 310 | 347 | 190 |  7 | 152 |   0 | 7.152000e+00 |      --      |    Inf | unknown\n",
      "  1.2s|     1 |     0 |  1296 |     - |    36M |   0 |2415 | 311 | 368 | 211 |  8 | 153 |   0 | 7.152000e+00 |      --      |    Inf | unknown\n",
      "  1.2s|     1 |     0 |  1337 |     - |    36M |   0 |2415 | 314 | 387 | 230 |  9 | 156 |   0 | 7.152000e+00 |      --      |    Inf | unknown\n",
      "  1.3s|     1 |     0 |  1373 |     - |    36M |   0 |2415 | 320 | 405 | 248 | 10 | 162 |   0 | 7.152000e+00 |      --      |    Inf | unknown\n",
      "  1.3s|     1 |     0 |  1415 |     - |    36M |   0 |2415 | 322 | 415 | 261 | 11 | 164 |   0 | 7.152000e+00 |      --      |    Inf | unknown\n",
      "L 1.3s|     1 |     0 |  1453 |     - |    rens|   0 |2415 | 332 | 415 | 261 | 11 | 174 |   0 | 7.152000e+00 | 9.000000e+00 |  25.84%| unknown\n",
      "  1.4s|     1 |     0 |  1453 |     - |    36M |   0 |2415 | 332 | 415 | 261 | 11 | 174 |   0 | 7.152000e+00 | 9.000000e+00 |  25.84%| unknown\n",
      "  1.4s|     1 |     0 |  1493 |     - |    36M |   0 |2415 | 340 | 428 | 274 | 12 | 182 |   0 | 7.152000e+00 | 9.000000e+00 |  25.84%| unknown\n",
      " time | node  | left  |LP iter|LP it/n|mem/heur|mdpt |vars |cons |rows |cuts |sepa|confs|strbr|  dualbound   | primalbound  |  gap   | compl. \n",
      "  1.4s|     1 |     0 |  1510 |     - |    36M |   0 |2415 | 341 | 431 | 277 | 13 | 183 |   0 | 7.152000e+00 | 9.000000e+00 |  25.84%| unknown\n",
      "  1.7s|     1 |     2 |  1514 |     - |    36M |   0 |2415 | 348 | 431 | 277 | 13 | 190 |  19 | 7.152000e+00 | 9.000000e+00 |  25.84%| unknown\n",
      "L 2.0s|    28 |     0 |  2641 |  43.3 |    alns|  20 |2415 | 363 | 376 | 298 |  3 | 215 |  71 | 8.000000e+00 | 8.000000e+00 |   0.00%| 100.00%\n",
      "\n",
      "SCIP Status        : problem is solved [optimal solution found]\n",
      "Solving Time (sec) : 2.06\n",
      "Solving Nodes      : 28\n",
      "Primal Bound       : +8.00000000000000e+00 (3 solutions)\n",
      "Dual Bound         : +8.00000000000000e+00\n",
      "Gap                : 0.00 %\n"
     ]
    }
   ],
   "source": [
    "m4 = pyscipopt.Model(sourceModel=m)\n",
    "m4.disablePropagation()\n",
    "m4.optimize()"
   ]
  },
  {
   "cell_type": "code",
   "execution_count": 8,
   "metadata": {},
   "outputs": [
    {
     "name": "stdout",
     "output_type": "stream",
     "text": [
      "presolving:\n",
      "presolving (0 rounds: 0 fast, 0 medium, 0 exhaustive):\n",
      " 0 deleted vars, 0 deleted constraints, 0 added constraints, 0 tightened bounds, 0 added holes, 0 changed sides, 0 changed coefficients\n",
      " 0 implications, 0 cliques\n",
      "presolved problem has 2473 variables (2473 bin, 0 int, 0 impl, 0 cont) and 161 constraints\n",
      "    161 constraints of type <linear>\n",
      "transformed objective value is always integral (scale: 1)\n",
      "Presolving Time: 0.00\n",
      "\n",
      " time | node  | left  |LP iter|LP it/n|mem/heur|mdpt |vars |cons |rows |cuts |sepa|confs|strbr|  dualbound   | primalbound  |  gap   | compl. \n",
      "  0.0s|     1 |     0 |   565 |     - |  9199k |   0 |2473 | 161 | 160 |   0 |  0 |   0 |   0 | 7.152000e+00 |      --      |    Inf | unknown\n",
      "  0.1s|     1 |     0 |   611 |     - |    16M |   0 |2473 | 161 | 179 |  19 |  1 |   0 |   0 | 7.152000e+00 |      --      |    Inf | unknown\n",
      "  0.2s|     1 |     0 |   660 |     - |    16M |   0 |2473 | 161 | 200 |  40 |  2 |   0 |   0 | 7.152000e+00 |      --      |    Inf | unknown\n",
      "  0.2s|     1 |     0 |   693 |     - |    17M |   0 |2473 | 161 | 215 |  55 |  3 |   0 |   0 | 7.152000e+00 |      --      |    Inf | unknown\n",
      "  0.2s|     1 |     0 |   749 |     - |    18M |   0 |2473 | 161 | 234 |  74 |  4 |   0 |   0 | 7.152000e+00 |      --      |    Inf | unknown\n",
      "  0.2s|     1 |     0 |   781 |     - |    19M |   0 |2473 | 161 | 250 |  90 |  5 |   0 |   0 | 7.152000e+00 |      --      |    Inf | unknown\n",
      "  0.3s|     1 |     0 |   841 |     - |    19M |   0 |2473 | 161 | 275 | 115 |  6 |   0 |   0 | 7.152000e+00 |      --      |    Inf | unknown\n",
      "  0.3s|     1 |     0 |   891 |     - |    20M |   0 |2473 | 161 | 295 | 135 |  7 |   0 |   0 | 7.152000e+00 |      --      |    Inf | unknown\n",
      "  0.3s|     1 |     0 |   927 |     - |    20M |   0 |2473 | 161 | 312 | 152 |  8 |   0 |   0 | 7.152000e+00 |      --      |    Inf | unknown\n",
      "  0.3s|     1 |     0 |   961 |     - |    21M |   0 |2473 | 161 | 326 | 166 |  9 |   0 |   0 | 7.152000e+00 |      --      |    Inf | unknown\n",
      "  0.4s|     1 |     0 |  1014 |     - |    21M |   0 |2473 | 161 | 344 | 184 | 10 |   0 |   0 | 7.152000e+00 |      --      |    Inf | unknown\n",
      "  0.4s|     1 |     0 |  1048 |     - |    21M |   0 |2473 | 161 | 358 | 198 | 11 |   0 |   0 | 7.152000e+00 |      --      |    Inf | unknown\n",
      "  0.4s|     1 |     0 |  1071 |     - |    22M |   0 |2473 | 161 | 373 | 213 | 12 |   0 |   0 | 7.152000e+00 |      --      |    Inf | unknown\n",
      "  1.1s|     1 |     0 |  1104 |     - |    22M |   0 |2473 | 162 | 373 | 213 | 12 |   2 |  40 | 7.152000e+00 |      --      |    Inf | unknown\n",
      "  1.1s|     1 |     0 |  1152 |     - |    22M |   0 |2473 | 162 | 385 | 225 | 13 |   2 |  40 | 7.152000e+00 |      --      |    Inf | unknown\n",
      " time | node  | left  |LP iter|LP it/n|mem/heur|mdpt |vars |cons |rows |cuts |sepa|confs|strbr|  dualbound   | primalbound  |  gap   | compl. \n",
      "  1.1s|     1 |     0 |  1162 |     - |    22M |   0 |2473 | 162 | 388 | 228 | 14 |   2 |  40 | 7.152000e+00 |      --      |    Inf | unknown\n",
      "  1.5s|     1 |     2 |  1168 |     - |    22M |   0 |2473 | 162 | 388 | 228 | 14 |   2 |  75 | 7.152000e+00 |      --      |    Inf | unknown\n",
      "  1.9s|   100 |    91 |  1842 |   7.2 |    26M |  94 |2473 | 168 | 333 | 286 |  1 |  10 |  75 | 7.152000e+00 |      --      |    Inf | unknown\n",
      "* 2.2s|   178 |   155 |  2410 |   7.2 |strongbr| 169 |2473 | 208 | 351 | 320 |  1 |  50 | 131 | 7.152000e+00 | 9.000000e+00 |  25.84%| unknown\n",
      "  2.2s|   200 |   165 |  2913 |   9.0 |    30M | 169 |2473 | 225 | 337 | 338 |  1 |  67 | 137 | 7.152000e+00 | 9.000000e+00 |  25.84%| unknown\n",
      "  2.6s|   300 |   233 |  5286 |  13.9 |    38M | 169 |2473 | 272 | 349 | 478 |  0 | 114 | 174 | 7.152000e+00 | 9.000000e+00 |  25.84%| unknown\n",
      "* 3.0s|   330 |     0 |  6661 |  16.8 |    LP  | 169 |2473 | 314 | 416 | 576 | 10 | 171 | 262 | 8.000000e+00 | 8.000000e+00 |   0.00%| 100.00%\n",
      "\n",
      "SCIP Status        : problem is solved [optimal solution found]\n",
      "Solving Time (sec) : 3.00\n",
      "Solving Nodes      : 330\n",
      "Primal Bound       : +8.00000000000000e+00 (2 solutions)\n",
      "Dual Bound         : +8.00000000000000e+00\n",
      "Gap                : 0.00 %\n"
     ]
    }
   ],
   "source": [
    "m5 = pyscipopt.Model(sourceModel=m)\n",
    "m5.setPresolve(pyscipopt.SCIP_PARAMSETTING.OFF)\n",
    "m5.setHeuristics(pyscipopt.SCIP_PARAMSETTING.OFF)\n",
    "m5.disablePropagation()\n",
    "m5.optimize()"
   ]
  },
  {
   "cell_type": "code",
   "execution_count": 9,
   "metadata": {},
   "outputs": [
    {
     "name": "stdout",
     "output_type": "stream",
     "text": [
      "presolving:\n",
      "presolving (0 rounds: 0 fast, 0 medium, 0 exhaustive):\n",
      " 0 deleted vars, 0 deleted constraints, 0 added constraints, 0 tightened bounds, 0 added holes, 0 changed sides, 0 changed coefficients\n",
      " 0 implications, 0 cliques\n",
      "presolved problem has 2473 variables (2473 bin, 0 int, 0 impl, 0 cont) and 161 constraints\n",
      "    161 constraints of type <linear>\n",
      "transformed objective value is always integral (scale: 1)\n",
      "Presolving Time: 0.00\n",
      "\n",
      " time | node  | left  |LP iter|LP it/n|mem/heur|mdpt |vars |cons |rows |cuts |sepa|confs|strbr|  dualbound   | primalbound  |  gap   | compl. \n",
      "  0.0s|     1 |     0 |   565 |     - |  9199k |   0 |2473 | 161 | 160 |   0 |  0 |   0 |   0 | 7.152000e+00 |      --      |    Inf | unknown\n",
      "  0.2s|     1 |     2 |   571 |     - |  9411k |   0 |2473 | 161 | 160 |   0 |  1 |   0 |  37 | 7.152000e+00 |      --      |    Inf | unknown\n",
      "  0.4s|   100 |    43 |  2555 |  20.1 |    10M |  60 |2473 | 220 | 160 |   0 |  0 |  59 |  41 | 7.152000e+00 |      --      |    Inf |   8.60%\n",
      "  0.6s|   200 |    65 |  3984 |  17.2 |    11M |  79 |2473 | 330 | 160 |   0 |  1 | 169 |  67 | 7.152000e+00 |      --      |    Inf |   8.60%\n",
      "  0.7s|   300 |    89 |  5836 |  17.6 |    11M |  79 |2473 | 405 | 160 |   0 |  0 | 281 |  86 | 7.152000e+00 |      --      |    Inf |   9.54%\n",
      "  0.9s|   400 |   127 |  8137 |  19.0 |    12M |  79 |2473 | 450 | 160 |   0 |  0 | 371 | 101 | 7.152000e+00 |      --      |    Inf |  10.49%\n",
      "  1.2s|   500 |   163 | 10624 |  20.2 |    12M |  79 |2473 | 524 | 160 |   0 |  1 | 519 | 151 | 7.152000e+00 |      --      |    Inf |  10.49%\n",
      "  1.3s|   600 |   185 | 11837 |  18.8 |    12M |  79 |2473 | 560 | 160 |   0 |  1 | 591 | 151 | 7.152000e+00 |      --      |    Inf |  10.49%\n",
      "  1.5s|   700 |   215 | 13752 |  18.9 |    13M |  79 |2473 | 617 | 160 |   0 |  1 | 705 | 182 | 7.152000e+00 |      --      |    Inf |  10.49%\n",
      "  1.6s|   800 |   245 | 15394 |  18.6 |    13M |  79 |2473 | 652 | 160 |   0 |  1 | 775 | 182 | 7.152000e+00 |      --      |    Inf |  10.49%\n",
      "  1.8s|   900 |   271 | 17006 |  18.3 |    14M |  79 |2473 | 707 | 160 |   0 |  0 | 885 | 204 | 7.152000e+00 |      --      |    Inf |  10.55%\n",
      "  1.9s|  1000 |   279 | 17778 |  17.2 |    15M |  79 |2473 | 753 | 160 |   0 |  0 | 977 | 204 | 7.152000e+00 |      --      |    Inf |  10.59%\n",
      "  2.0s|  1100 |   311 | 19906 |  17.6 |    15M |  79 |2473 | 787 | 160 |   0 |  1 |1045 | 204 | 7.152000e+00 |      --      |    Inf |  11.06%\n",
      "  2.2s|  1200 |   341 | 21213 |  17.2 |    15M |  79 |2473 | 822 | 160 |   0 |  1 |1115 | 204 | 7.152000e+00 |      --      |    Inf |  12.27%\n",
      "  2.4s|  1300 |   363 | 22679 |  17.0 |    15M |  79 |2473 | 875 | 160 |   0 |  0 |1221 | 223 | 7.152000e+00 |      --      |    Inf |  12.27%\n",
      " time | node  | left  |LP iter|LP it/n|mem/heur|mdpt |vars |cons |rows |cuts |sepa|confs|strbr|  dualbound   | primalbound  |  gap   | compl. \n",
      "  2.6s|  1400 |   391 | 24858 |  17.4 |    15M |  79 |2473 | 948 | 160 |   0 |  1 |1367 | 280 | 7.152000e+00 |      --      |    Inf |  12.27%\n",
      "* 2.7s|  1475 |   334 | 25957 |  17.2 |    LP  |  79 |2473 | 980 | 160 |   0 |  1 |1433 | 285 | 7.152000e+00 | 9.000000e+00 |  25.84%|   6.14%\n",
      "  2.7s|  1500 |   345 | 26729 |  17.5 |    15M |  79 |2473 | 987 | 160 |   0 |  1 |1446 | 285 | 7.152000e+00 | 9.000000e+00 |  25.84%|   6.33%\n",
      "  2.9s|  1600 |   371 | 28744 |  17.6 |    15M |  79 |2473 |1023 | 160 |   0 |  1 |1518 | 285 | 7.152000e+00 | 9.000000e+00 |  25.84%|   6.52%\n",
      "  3.0s|  1700 |   395 | 30550 |  17.6 |    15M |  79 |2473 |1061 | 160 |   0 |  1 |1594 | 285 | 7.152000e+00 | 9.000000e+00 |  25.84%|   6.71%\n",
      "  3.2s|  1800 |   417 | 33029 |  18.0 |    15M |  79 |2473 |1098 | 160 |   0 |  0 |1668 | 285 | 7.152000e+00 | 9.000000e+00 |  25.84%|   6.71%\n",
      "  3.4s|  1900 |   435 | 35750 |  18.5 |    15M |  79 |2473 |1136 | 160 |   0 |  0 |1744 | 285 | 7.152000e+00 | 9.000000e+00 |  25.84%|   6.71%\n",
      "  3.5s|  2000 |   447 | 37343 |  18.4 |    15M | 115 |2473 |1187 | 160 |   0 |  1 |1846 | 294 | 7.152000e+00 | 9.000000e+00 |  25.84%|   6.71%\n",
      "  3.6s|  2100 |   453 | 39250 |  18.4 |    15M | 166 |2473 |1238 | 160 |   0 |  0 |1948 | 301 | 7.152000e+00 | 9.000000e+00 |  25.84%|   6.71%\n",
      "  3.8s|  2200 |   471 | 42641 |  19.1 |    16M | 166 |2473 |1281 | 160 |   0 |  1 |2032 | 315 | 7.152000e+00 | 9.000000e+00 |  25.84%|   6.90%\n",
      "  4.1s|  2300 |   485 | 46710 |  20.1 |    16M | 166 |2473 |1317 | 160 |   0 |  1 |2104 | 315 | 7.152000e+00 | 9.000000e+00 |  25.84%|   6.90%\n",
      "  4.3s|  2400 |   507 | 50201 |  20.7 |    16M | 166 |2473 |1349 | 160 |   0 |  0 |2168 | 315 | 7.152000e+00 | 9.000000e+00 |  25.84%|   6.90%\n",
      "  4.5s|  2500 |   535 | 52710 |  20.9 |    16M | 166 |2473 |1405 | 160 |   0 |  1 |2280 | 340 | 7.152000e+00 | 9.000000e+00 |  25.84%|   6.90%\n",
      "  4.7s|  2600 |   561 | 55410 |  21.1 |    16M | 166 |2473 |1441 | 160 |   0 |  1 |2352 | 340 | 7.152000e+00 | 9.000000e+00 |  25.84%|   6.90%\n",
      "  4.9s|  2700 |   577 | 57650 |  21.2 |    16M | 166 |2473 |1483 | 160 |   0 |  1 |2436 | 344 | 7.152000e+00 | 9.000000e+00 |  25.84%|   6.90%\n",
      " time | node  | left  |LP iter|LP it/n|mem/heur|mdpt |vars |cons |rows |cuts |sepa|confs|strbr|  dualbound   | primalbound  |  gap   | compl. \n",
      "  5.0s|  2800 |   599 | 59781 |  21.2 |    16M | 166 |2473 |1519 | 160 |   0 |  1 |2508 | 344 | 7.152000e+00 | 9.000000e+00 |  25.84%|   6.90%\n",
      "  5.2s|  2900 |   611 | 61799 |  21.1 |    16M | 166 |2473 |1561 | 160 |   0 |  0 |2594 | 344 | 7.152000e+00 | 9.000000e+00 |  25.84%|   6.90%\n",
      "  5.3s|  3000 |   623 | 63599 |  21.0 |    16M | 166 |2473 |1608 | 160 |   0 |  0 |2687 | 352 | 7.152000e+00 | 9.000000e+00 |  25.84%|   6.90%\n",
      "  5.5s|  3100 |   635 | 65276 |  20.9 |    16M | 166 |2473 |1660 | 160 |   0 |  1 |2789 | 372 | 7.152000e+00 | 9.000000e+00 |  25.84%|   6.90%\n",
      "  5.6s|  3200 |   643 | 66966 |  20.8 |    16M | 166 |2473 |1706 | 160 |   0 |  0 |2881 | 372 | 7.152000e+00 | 9.000000e+00 |  25.84%|   6.90%\n",
      "  5.8s|  3300 |   655 | 69158 |  20.8 |    16M | 166 |2473 |1745 | 160 |   0 |  0 |2959 | 372 | 7.152000e+00 | 9.000000e+00 |  25.84%|   6.90%\n",
      "  5.9s|  3400 |   667 | 70797 |  20.7 |    16M | 166 |2473 |1772 | 160 |   0 |  0 |3013 | 372 | 7.152000e+00 | 9.000000e+00 |  25.84%|   6.90%\n",
      "  6.1s|  3500 |   687 | 72568 |  20.6 |    16M | 166 |2473 |1811 | 160 |   0 |  0 |3089 | 389 | 7.152000e+00 | 9.000000e+00 |  25.84%|   6.90%\n",
      "  6.2s|  3600 |   695 | 74720 |  20.6 |    16M | 166 |2473 |1847 | 160 |   0 |  0 |3161 | 389 | 7.152000e+00 | 9.000000e+00 |  25.84%|   6.90%\n",
      "  6.4s|  3700 |   701 | 76189 |  20.4 |    16M | 166 |2473 |1881 | 160 |   0 |  0 |3229 | 389 | 7.152000e+00 | 9.000000e+00 |  25.84%|   6.90%\n",
      "  6.5s|  3800 |   715 | 78835 |  20.6 |    16M | 166 |2473 |1924 | 160 |   0 |  1 |3314 | 394 | 7.152000e+00 | 9.000000e+00 |  25.84%|   6.90%\n",
      "  6.8s|  3900 |   735 | 81010 |  20.6 |    16M | 166 |2473 |1956 | 160 |   0 |  0 |3378 | 394 | 7.152000e+00 | 9.000000e+00 |  25.84%|   6.90%\n",
      "  7.0s|  4000 |   749 | 82916 |  20.6 |    16M | 166 |2473 |1990 | 160 |   0 |  1 |3446 | 394 | 7.152000e+00 | 9.000000e+00 |  25.84%|   7.08%\n",
      "  7.1s|  4100 |   765 | 85084 |  20.6 |    17M | 166 |2473 |2028 | 160 |   0 |  0 |3522 | 394 | 7.152000e+00 | 9.000000e+00 |  25.84%|   7.08%\n",
      "  7.3s|  4200 |   781 | 87093 |  20.6 |    17M | 166 |2473 |2060 | 160 |   0 |  1 |3586 | 394 | 7.152000e+00 | 9.000000e+00 |  25.84%|   7.08%\n",
      " time | node  | left  |LP iter|LP it/n|mem/heur|mdpt |vars |cons |rows |cuts |sepa|confs|strbr|  dualbound   | primalbound  |  gap   | compl. \n",
      "* 7.3s|  4224 |     0 | 87939 |  20.7 |    LP  | 166 |2473 |2047 | 160 |   0 |  1 |3598 | 394 | 8.000000e+00 | 8.000000e+00 |   0.00%| 100.00%\n",
      "\n",
      "SCIP Status        : problem is solved [optimal solution found]\n",
      "Solving Time (sec) : 7.35\n",
      "Solving Nodes      : 4224\n",
      "Primal Bound       : +8.00000000000000e+00 (2 solutions)\n",
      "Dual Bound         : +8.00000000000000e+00\n",
      "Gap                : 0.00 %\n"
     ]
    }
   ],
   "source": [
    "m6 = pyscipopt.Model(sourceModel=m)\n",
    "m6.setPresolve(pyscipopt.SCIP_PARAMSETTING.OFF)\n",
    "m6.setHeuristics(pyscipopt.SCIP_PARAMSETTING.OFF)\n",
    "m6.setSeparating(pyscipopt.SCIP_PARAMSETTING.OFF)\n",
    "m6.disablePropagation()\n",
    "m6.optimize()"
   ]
  },
  {
   "cell_type": "markdown",
   "metadata": {},
   "source": [
    "Disabling the presolve, heuristics, separation, and propagation options keeps the number of variables steady.\n",
    "The number of constraints increases due to the branching of variables; why does it monotonically increase? Does each of the output lines refer to the best solution?"
   ]
  },
  {
   "cell_type": "markdown",
   "metadata": {},
   "source": [
    "### Notes about useful methods\n",
    "\n",
    "- chgVarBranchPriority(): Set the branching priority of the variable.\n",
    "- createPartialSol(): Create a partial primal solution, initialized to unknown values.\n",
    "- createSol(): Create a new primal solution. -> To invetigate the difference with the one above: partial vs complete?\n",
    "- getCurrentNode(): Retrieve current node.\n",
    "- getLPBranchCands():\n",
    "- includeEventhdlr(), includeHeur(), includeNodesel(), etc."
   ]
  },
  {
   "cell_type": "markdown",
   "metadata": {},
   "source": [
    "## Implementation of a new branching rule\n",
    "\n",
    "The goal is to define a branching rule that prioritizes station activation variables when the last opened station is full."
   ]
  },
  {
   "cell_type": "code",
   "execution_count": 10,
   "metadata": {},
   "outputs": [
    {
     "ename": "TypeError",
     "evalue": "StationOriented.__init__() missing 2 required positional arguments: 'model' and 'cont'",
     "output_type": "error",
     "traceback": [
      "\u001b[0;31m---------------------------------------------------------------------------\u001b[0m",
      "\u001b[0;31mTypeError\u001b[0m                                 Traceback (most recent call last)",
      "Cell \u001b[0;32mIn[10], line 41\u001b[0m\n\u001b[1;32m     37\u001b[0m             \u001b[38;5;28mself\u001b[39m\u001b[38;5;241m.\u001b[39mmodel\u001b[38;5;241m.\u001b[39mcreateChild(\u001b[38;5;241m6\u001b[39m, \u001b[38;5;241m7\u001b[39m)\n\u001b[1;32m     38\u001b[0m             \u001b[38;5;28;01mreturn\u001b[39;00m {\u001b[38;5;124m\"\u001b[39m\u001b[38;5;124mresult\u001b[39m\u001b[38;5;124m\"\u001b[39m: pyscipopt\u001b[38;5;241m.\u001b[39mSCIP_RESULT\u001b[38;5;241m.\u001b[39mBRANCHED}\n\u001b[1;32m     40\u001b[0m M\u001b[38;5;241m.\u001b[39mincludeBranchrule(\n\u001b[0;32m---> 41\u001b[0m     branchrule\u001b[38;5;241m=\u001b[39m\u001b[43mStationOriented\u001b[49m\u001b[43m(\u001b[49m\u001b[43m)\u001b[49m,\n\u001b[1;32m     42\u001b[0m     name\u001b[38;5;241m=\u001b[39m\u001b[38;5;124m\"\u001b[39m\u001b[38;5;124mstation-oriented\u001b[39m\u001b[38;5;124m\"\u001b[39m,\n\u001b[1;32m     43\u001b[0m     desc\u001b[38;5;241m=\u001b[39m\u001b[38;5;124m\"\u001b[39m\u001b[38;5;124m\"\u001b[39m,\n\u001b[1;32m     44\u001b[0m     priority\u001b[38;5;241m=\u001b[39m\u001b[38;5;241m10001\u001b[39m,\n\u001b[1;32m     45\u001b[0m     maxdepth\u001b[38;5;241m=\u001b[39m\u001b[38;5;241m-\u001b[39m\u001b[38;5;241m1\u001b[39m,\n\u001b[1;32m     46\u001b[0m     maxbounddisst\u001b[38;5;241m=\u001b[39m\u001b[38;5;241m-\u001b[39m\u001b[38;5;241m1\u001b[39m,\n\u001b[1;32m     47\u001b[0m )\n\u001b[1;32m     48\u001b[0m \u001b[38;5;66;03m# M.setPresolve(pyscipopt.SCIP_PARAMSETTING.OFF)\u001b[39;00m\n\u001b[1;32m     49\u001b[0m \u001b[38;5;66;03m# M.setHeuristics(pyscipopt.SCIP_PARAMSETTING.OFF)\u001b[39;00m\n\u001b[1;32m     50\u001b[0m \u001b[38;5;66;03m# M.setSeparating(pyscipopt.SCIP_PARAMSETTING.OFF)\u001b[39;00m\n\u001b[1;32m     51\u001b[0m \u001b[38;5;66;03m# M.disablePropagation()\u001b[39;00m\n\u001b[1;32m     52\u001b[0m \u001b[38;5;66;03m# M.optimize()\u001b[39;00m\n",
      "\u001b[0;31mTypeError\u001b[0m: StationOriented.__init__() missing 2 required positional arguments: 'model' and 'cont'"
     ]
    }
   ],
   "source": [
    "M = pyscipopt.Model(sourceModel=m)\n",
    "\n",
    "class StationOriented(pyscipopt.Branchrule):\n",
    "\n",
    "    def __init__(self, model, cont):\n",
    "        self.model = model\n",
    "        self.cont = cont\n",
    "        self.count = 0\n",
    "        self.was_called_val = False\n",
    "        self.was_called_int = False\n",
    "\n",
    "    def branchexeclp(self, allowaddcons):\n",
    "        self.count += 1\n",
    "        if self.count >= 2:\n",
    "            return {\"result\": pyscipopt.SCIP_RESULT.DIDNOTRUN}\n",
    "        assert allowaddcons\n",
    "\n",
    "        assert not self.model.inRepropagation()\n",
    "        assert not self.model.inProbing()\n",
    "        self.model.startProbing()\n",
    "        assert not self.model.isObjChangedProbing()\n",
    "        self.model.fixVarProbing(self.cont, 2.0)\n",
    "        self.model.constructLP()\n",
    "        self.model.solveProbingLP()\n",
    "        self.model.getLPObjVal()\n",
    "        self.model.endProbing()\n",
    "\n",
    "        self.integral = self.model.getLPBranchCands()[0][0]\n",
    "\n",
    "        if self.count == 1:\n",
    "            down, eq, up = self.model.branchVarVal(self.cont, 1.3)\n",
    "            self.model.chgVarLbNode(down, self.cont, -1.5)\n",
    "            self.model.chgVarUbNode(up, self.cont, 3.0)\n",
    "            self.was_called_val = True\n",
    "            down2, eq2, up2 = self.model.branchVar(self.integral)\n",
    "            self.was_called_int = True\n",
    "            self.model.createChild(6, 7)\n",
    "            return {\"result\": pyscipopt.SCIP_RESULT.BRANCHED}\n",
    "\n",
    "M.includeBranchrule(\n",
    "    branchrule=StationOriented(),\n",
    "    name=\"station-oriented\",\n",
    "    desc=\"\",\n",
    "    priority=10001,\n",
    "    maxdepth=-1,\n",
    "    maxbounddisst=-1,\n",
    ")\n",
    "# M.setPresolve(pyscipopt.SCIP_PARAMSETTING.OFF)\n",
    "# M.setHeuristics(pyscipopt.SCIP_PARAMSETTING.OFF)\n",
    "# M.setSeparating(pyscipopt.SCIP_PARAMSETTING.OFF)\n",
    "# M.disablePropagation()\n",
    "# M.optimize()"
   ]
  }
 ],
 "metadata": {
  "kernelspec": {
   "display_name": "albp-RW1qceGi-py3.9",
   "language": "python",
   "name": "python3"
  },
  "language_info": {
   "codemirror_mode": {
    "name": "ipython",
    "version": 3
   },
   "file_extension": ".py",
   "mimetype": "text/x-python",
   "name": "python",
   "nbconvert_exporter": "python",
   "pygments_lexer": "ipython3",
   "version": "3.11.8"
  }
 },
 "nbformat": 4,
 "nbformat_minor": 2
}
