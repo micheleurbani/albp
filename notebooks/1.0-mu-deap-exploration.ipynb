{
 "cells": [
  {
   "cell_type": "code",
   "execution_count": 1,
   "metadata": {},
   "outputs": [],
   "source": [
    "import sys\n",
    "sys.path.append(\"..\")\n",
    "\n",
    "import ecole\n",
    "import random\n",
    "import operator\n",
    "import numpy as np\n",
    "from pathlib import Path\n",
    "\n",
    "from models.generator.albp_gen import ALBPGenerator\n",
    "\n",
    "from deap import algorithms, base, creator, tools, gp"
   ]
  },
  {
   "cell_type": "code",
   "execution_count": 2,
   "metadata": {},
   "outputs": [],
   "source": [
    "def protectedDiv(left, right):\n",
    "    try:\n",
    "        return left / right\n",
    "    except ZeroDivisionError:\n",
    "        return 1\n",
    "\n",
    "# define the primitive set for the GP algorithm\n",
    "NUM_VAR_FEATURES = 19\n",
    "pset = gp.PrimitiveSet(\"MAIN\", NUM_VAR_FEATURES)\n",
    "pset.addPrimitive(operator.add, 2)\n",
    "pset.addPrimitive(operator.sub, 2)\n",
    "pset.addPrimitive(operator.mul, 2)\n",
    "pset.addPrimitive(protectedDiv, 2)\n",
    "pset.addPrimitive(operator.neg, 1)\n",
    "pset.addPrimitive(min, 2)\n",
    "pset.addPrimitive(max, 2)\n",
    "\n",
    "# define the problem\n",
    "creator.create(\"FitnessMin\", base.Fitness, weights=(-1.0,))\n",
    "creator.create(\"Individual\", gp.PrimitiveTree, fitness=creator.FitnessMin)\n",
    "\n",
    "toolbox = base.Toolbox()\n",
    "toolbox.register(\"expr\", gp.genHalfAndHalf, pset=pset, min_=1, max_=2)\n",
    "toolbox.register(\"individual\", tools.initIterate, creator.Individual, toolbox.expr)\n",
    "toolbox.register(\"population\", tools.initRepeat, list, toolbox.individual)\n",
    "toolbox.register(\"compile\", gp.compile, pset=pset)\n",
    "\n",
    "instances = ALBPGenerator(\n",
    "    directory=Path(\"..\", \"data\", \"raw\"),\n",
    "    rng=np.random.default_rng(430958)\n",
    ")\n",
    "\n",
    "scip_parameters = {\n",
    "    \"separating/maxrounds\": 0,\n",
    "    \"presolving/maxrestarts\": 0,\n",
    "    \"limits/time\": 3600,\n",
    "}\n",
    "\n",
    "env = ecole.environment.Branching(\n",
    "    observation_function=ecole.observation.NodeBipartite(),\n",
    "    scip_params=scip_parameters,\n",
    ")\n",
    "\n",
    "N_EVAL = 10\n",
    "\n",
    "# define an evaluation function, which MUST return a tuple\n",
    "def evalSymbReg(individual):\n",
    "    # Transform the tree expression in a callable function\n",
    "    func = toolbox.compile(expr=individual)\n",
    "    # pick a random instance\n",
    "    scores = []\n",
    "    evaluations = 0\n",
    "    while evaluations < N_EVAL:\n",
    "        instance = next(instances)\n",
    "        observation, action_set, _, done, _ = env.reset(instance)\n",
    "        while not done:\n",
    "            b = map(func, observation.variable_features)\n",
    "            action = np.argmax(b)\n",
    "            observation, action_set, _, done, _ = env.step(action_set[action])\n",
    "        scores.append(env.model.primal_bound)\n",
    "\n",
    "\n",
    "    return sum(scores) / len(scores),\n",
    "\n",
    "# register the fitness function\n",
    "toolbox.register(\"evaluate\", evalSymbReg)\n",
    "# register the selection operator: a tournament operator of size 3\n",
    "toolbox.register(\"select\", tools.selTournament, tournsize=3)\n",
    "# add mutation operators\n",
    "toolbox.register(\"mate\", gp.cxOnePoint)\n",
    "toolbox.register(\"expr_mut\", gp.genFull, min_=0, max_=2)\n",
    "toolbox.register(\"mutate\", gp.mutUniform, expr=toolbox.expr_mut, pset=pset)\n",
    "\n",
    "toolbox.decorate(\"mate\", gp.staticLimit(key=operator.attrgetter(\"height\"), max_value=17))\n",
    "toolbox.decorate(\"mutate\", gp.staticLimit(key=operator.attrgetter(\"height\"), max_value=17))\n",
    "\n",
    "def main():\n",
    "    random.seed(318)\n",
    "\n",
    "    pop = toolbox.population(n=300)\n",
    "    hof = tools.HallOfFame(1)\n",
    "\n",
    "    stats_fit = tools.Statistics(lambda ind: ind.fitness.values)\n",
    "    stats_size = tools.Statistics(len)\n",
    "    mstats = tools.MultiStatistics(fitness=stats_fit, size=stats_size)\n",
    "    mstats.register(\"avg\", np.mean)\n",
    "    mstats.register(\"std\", np.std)\n",
    "    mstats.register(\"min\", np.min)\n",
    "    mstats.register(\"max\", np.max)\n",
    "\n",
    "    pop, log = algorithms.eaSimple(pop, toolbox, 0.5, 0.1, 40, stats=mstats,\n",
    "                                   halloffame=hof, verbose=True)\n",
    "    # print log\n",
    "    return pop, log, hof\n"
   ]
  },
  {
   "cell_type": "code",
   "execution_count": 3,
   "metadata": {},
   "outputs": [
    {
     "name": "stdout",
     "output_type": "stream",
     "text": [
      "original problem has 903073 variables (903073 bin, 0 int, 0 impl, 0 cont) and 3415 constraints\n"
     ]
    },
    {
     "ename": "",
     "evalue": "",
     "output_type": "error",
     "traceback": [
      "\u001b[1;31mThe Kernel crashed while executing code in the current cell or a previous cell. \n",
      "\u001b[1;31mPlease review the code in the cell(s) to identify a possible cause of the failure. \n",
      "\u001b[1;31mClick <a href='https://aka.ms/vscodeJupyterKernelCrash'>here</a> for more info. \n",
      "\u001b[1;31mView Jupyter <a href='command:jupyter.viewOutput'>log</a> for further details."
     ]
    }
   ],
   "source": [
    "main()"
   ]
  },
  {
   "cell_type": "code",
   "execution_count": null,
   "metadata": {},
   "outputs": [],
   "source": [
    "# show results\n"
   ]
  }
 ],
 "metadata": {
  "kernelspec": {
   "display_name": "albp",
   "language": "python",
   "name": "python3"
  },
  "language_info": {
   "codemirror_mode": {
    "name": "ipython",
    "version": 3
   },
   "file_extension": ".py",
   "mimetype": "text/x-python",
   "name": "python",
   "nbconvert_exporter": "python",
   "pygments_lexer": "ipython3",
   "version": "3.11.8"
  }
 },
 "nbformat": 4,
 "nbformat_minor": 2
}
