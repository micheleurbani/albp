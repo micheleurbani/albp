{
 "cells": [
  {
   "cell_type": "code",
   "execution_count": 3,
   "metadata": {},
   "outputs": [
    {
     "name": "stdout",
     "output_type": "stream",
     "text": [
      "../data/raw/albp-datasets/SALBP-1993/SAWYER30.IN2\n",
      "../data/raw/albp-datasets/SALBP-1993/MERTENS.IN2\n",
      "../data/raw/albp-datasets/SALBP-1993/ROSZIEG.IN2\n",
      "../data/raw/albp-datasets/SALBP-1993/GUNTHER.IN2\n",
      "../data/raw/albp-datasets/SALBP-1993/HAHN.IN2\n",
      "../data/raw/albp-datasets/SALBP-1993/KILBRID.IN2\n",
      "../data/raw/albp-datasets/SALBP-1993/SCHOLL.IN2\n",
      "../data/raw/albp-datasets/SALBP-1993/LUTZ1.IN2\n",
      "../data/raw/albp-datasets/SALBP-1993/MANSOOR.IN2\n",
      "../data/raw/albp-datasets/SALBP-1993/BARTHOL2.IN2\n",
      "../data/raw/albp-datasets/SALBP-1993/JAESCHKE.IN2\n",
      "../data/raw/albp-datasets/SALBP-1993/BOWMAN8.IN2\n",
      "../data/raw/albp-datasets/SALBP-1993/TONGE70.IN2\n",
      "../data/raw/albp-datasets/SALBP-1993/WEE-MAG.IN2\n",
      "../data/raw/albp-datasets/SALBP-1993/HESKIA.IN2\n",
      "../data/raw/albp-datasets/SALBP-1993/MUKHERJE.IN2\n",
      "../data/raw/albp-datasets/SALBP-1993/LUTZ3.IN2\n",
      "../data/raw/albp-datasets/SALBP-1993/WARNECKE.IN2\n",
      "../data/raw/albp-datasets/SALBP-1993/JACKSON.IN2\n",
      "../data/raw/albp-datasets/SALBP-1993/MITCHELL.IN2\n",
      "../data/raw/albp-datasets/SALBP-1993/LUTZ2.IN2\n",
      "../data/raw/albp-datasets/SALBP-1993/BUXEY.IN2\n",
      "../data/raw/albp-datasets/SALBP-1993/ARC83.IN2\n",
      "../data/raw/albp-datasets/SALBP-1993/ARC111.IN2\n",
      "../data/raw/albp-datasets/SALBP-1993/BARTHOLD.IN2\n"
     ]
    }
   ],
   "source": [
    "# import sys\n",
    "# sys.path.append('..')\n",
    "\n",
    "# import numpy as np\n",
    "# from pathlib import Path\n",
    "\n",
    "# from albp.data.utils import transitive_closure\n",
    "\n",
    "# dataset = 'SALBP-1993'\n",
    "# directory = Path('..', 'data', 'raw', 'albp-datasets', dataset)\n",
    "\n",
    "# for i in directory.glob('*.IN2'):\n",
    "#     print(i)\n",
    "#     with open(i, 'r') as f:\n",
    "#         p = f.read()\n",
    "#     raw = p.strip().split('\\n')\n",
    "#     N = int(raw[0])\n",
    "#     t = raw[1:N + 1]\n",
    "#     prec = raw[N + 2:-3]\n",
    "#     int_prec = [(int(pp[0]) - 1, int(pp[1]) - 1) for pp in [p.split(',') for p in prec]]\n",
    "#     P = np.zeros((N, N), dtype=bool)\n",
    "#     for p in int_prec:\n",
    "#         P[p] = 1\n",
    "#     P = transitive_closure(P)\n",
    "\n",
    "#     f = \"<number of tasks>\\n\"\n",
    "#     f += f\"{N}\\n\\n\"\n",
    "#     f += \"<cycle time>\\n1000\\n\\n\"\n",
    "#     f += f\"<order strength>\\n{2 * np.sum(P) / (N * (N - 1)):.3f}\\n\\n\"\n",
    "#     f += \"<task times>\\n\"\n",
    "#     f += \"\\n\".join([f\"{j + 1} {x}\" for j, x in enumerate(t)])\n",
    "#     f += \"\\n\\n<precedence relations>\\n\"\n",
    "#     f += \"\\n\".join(prec)\n",
    "#     f += \"\\n\\n<end>\"\n",
    "\n",
    "#     with open(i.with_suffix(\".alb\"), \"w\") as file:\n",
    "#         file.write(f)\n",
    "\n",
    "#     i.unlink()\n"
   ]
  },
  {
   "cell_type": "code",
   "execution_count": 15,
   "metadata": {},
   "outputs": [
    {
     "name": "stdout",
     "output_type": "stream",
     "text": [
      "../data/raw/albp-datasets/PALBP/mertens\n",
      "../data/raw/albp-datasets/PALBP/jaeschke\n",
      "../data/raw/albp-datasets/PALBP/JACKSON\n",
      "../data/raw/albp-datasets/PALBP/ROSZIEG\n",
      "../data/raw/albp-datasets/PALBP/KILBRID\n",
      "../data/raw/albp-datasets/PALBP/HAHN\n",
      "../data/raw/albp-datasets/PALBP/TONGE\n",
      "../data/raw/albp-datasets/PALBP/WEE-MAG\n",
      "../data/raw/albp-datasets/PALBP/ARC1\n",
      "../data/raw/albp-datasets/PALBP/LUTZ2\n",
      "../data/raw/albp-datasets/PALBP/LUTZ3\n",
      "../data/raw/albp-datasets/PALBP/MUKHERJE\n",
      "../data/raw/albp-datasets/PALBP/ARC2\n"
     ]
    }
   ],
   "source": [
    "import sys\n",
    "sys.path.append('..')\n",
    "\n",
    "import numpy as np\n",
    "import pandas as pd\n",
    "from pathlib import Path\n",
    "\n",
    "from albp.data.utils import transitive_closure\n",
    "\n",
    "dataset = 'PALBP'\n",
    "directory = Path('..', 'data', 'raw', 'albp-datasets', dataset)\n",
    "\n",
    "df = pd.read_csv(directory.joinpath('cycle-times.csv'))\n",
    "\n",
    "for prob in df.problem.unique():\n",
    "    if directory.joinpath(prob).is_dir():\n",
    "        pp = directory.joinpath(prob)\n",
    "    elif directory.joinpath(prob.upper()).is_dir():\n",
    "        pp = directory.joinpath(prob.upper())\n",
    "\n",
    "    \n",
    "    print(pp)"
   ]
  }
 ],
 "metadata": {
  "kernelspec": {
   "display_name": "albp",
   "language": "python",
   "name": "python3"
  },
  "language_info": {
   "codemirror_mode": {
    "name": "ipython",
    "version": 3
   },
   "file_extension": ".py",
   "mimetype": "text/x-python",
   "name": "python",
   "nbconvert_exporter": "python",
   "pygments_lexer": "ipython3",
   "version": "3.9.19"
  }
 },
 "nbformat": 4,
 "nbformat_minor": 2
}
